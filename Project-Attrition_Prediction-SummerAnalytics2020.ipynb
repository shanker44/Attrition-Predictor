{
 "cells": [
  {
   "cell_type": "markdown",
   "metadata": {},
   "source": [
    "# EMPLOYEE ATTRITION FINDER"
   ]
  },
  {
   "cell_type": "markdown",
   "metadata": {},
   "source": [
    "# [PROJECT](https://www.kaggle.com/c/summeranalytics2020/) based on [6 week course](http://www.caciitg.in/sa2020/course), SummerAnalytics2020 held by [Consulting and Analytics Club (IIT Guwahati)](https://caciitg.in)"
   ]
  },
  {
   "cell_type": "markdown",
   "metadata": {},
   "source": [
    "# PROJECT was basically A Kaggle Competition"
   ]
  },
  {
   "cell_type": "code",
   "execution_count": 1,
   "metadata": {},
   "outputs": [],
   "source": [
    "#import basic libraries for visualisation and computation\n",
    "import pandas as pd\n",
    "import numpy as np\n",
    "import matplotlib.pyplot as plt\n",
    "%matplotlib inline\n",
    "\n",
    "#import all models to be used\n",
    "from sklearn.ensemble import RandomForestClassifier\n",
    "from sklearn.linear_model import LogisticRegression\n",
    "from sklearn.naive_bayes import GaussianNB\n",
    "from sklearn.ensemble import AdaBoostClassifier\n",
    "from xgboost import XGBClassifier\n",
    "from sklearn.neural_network import MLPClassifier\n",
    "\n",
    "#import metric specified in competition\n",
    "from sklearn.metrics import roc_auc_score\n",
    "\n",
    "#import some basic preprocessing methods\n",
    "from sklearn.preprocessing import LabelEncoder, PolynomialFeatures, StandardScaler\n",
    "\n",
    "#import important splitting methods\n",
    "from sklearn.model_selection import train_test_split, cross_val_score\n",
    "\n",
    "#feature importance calculator\n",
    "from sklearn.feature_selection import chi2"
   ]
  },
  {
   "cell_type": "code",
   "execution_count": 2,
   "metadata": {},
   "outputs": [],
   "source": [
    "#download the traininf and testing data\n",
    "train_data_orig = pd.read_csv('train.csv', index_col='Id')\n",
    "test_data_orig = pd.read_csv('test.csv', index_col='Id')"
   ]
  },
  {
   "cell_type": "code",
   "execution_count": 3,
   "metadata": {},
   "outputs": [],
   "source": [
    "#set to show all columns(default=15)\n",
    "pd.set_option('max_columns', None)"
   ]
  },
  {
   "cell_type": "code",
   "execution_count": 4,
   "metadata": {},
   "outputs": [
    {
     "data": {
      "text/html": [
       "<div>\n",
       "<style scoped>\n",
       "    .dataframe tbody tr th:only-of-type {\n",
       "        vertical-align: middle;\n",
       "    }\n",
       "\n",
       "    .dataframe tbody tr th {\n",
       "        vertical-align: top;\n",
       "    }\n",
       "\n",
       "    .dataframe thead th {\n",
       "        text-align: right;\n",
       "    }\n",
       "</style>\n",
       "<table border=\"1\" class=\"dataframe\">\n",
       "  <thead>\n",
       "    <tr style=\"text-align: right;\">\n",
       "      <th></th>\n",
       "      <th>Age</th>\n",
       "      <th>Attrition</th>\n",
       "      <th>BusinessTravel</th>\n",
       "      <th>Department</th>\n",
       "      <th>DistanceFromHome</th>\n",
       "      <th>Education</th>\n",
       "      <th>EducationField</th>\n",
       "      <th>EmployeeNumber</th>\n",
       "      <th>EnvironmentSatisfaction</th>\n",
       "      <th>Gender</th>\n",
       "      <th>JobInvolvement</th>\n",
       "      <th>JobRole</th>\n",
       "      <th>JobSatisfaction</th>\n",
       "      <th>MaritalStatus</th>\n",
       "      <th>MonthlyIncome</th>\n",
       "      <th>NumCompaniesWorked</th>\n",
       "      <th>OverTime</th>\n",
       "      <th>PercentSalaryHike</th>\n",
       "      <th>PerformanceRating</th>\n",
       "      <th>StockOptionLevel</th>\n",
       "      <th>TotalWorkingYears</th>\n",
       "      <th>TrainingTimesLastYear</th>\n",
       "      <th>YearsAtCompany</th>\n",
       "      <th>YearsInCurrentRole</th>\n",
       "      <th>YearsSinceLastPromotion</th>\n",
       "      <th>YearsWithCurrManager</th>\n",
       "      <th>CommunicationSkill</th>\n",
       "      <th>Behaviour</th>\n",
       "    </tr>\n",
       "    <tr>\n",
       "      <th>Id</th>\n",
       "      <th></th>\n",
       "      <th></th>\n",
       "      <th></th>\n",
       "      <th></th>\n",
       "      <th></th>\n",
       "      <th></th>\n",
       "      <th></th>\n",
       "      <th></th>\n",
       "      <th></th>\n",
       "      <th></th>\n",
       "      <th></th>\n",
       "      <th></th>\n",
       "      <th></th>\n",
       "      <th></th>\n",
       "      <th></th>\n",
       "      <th></th>\n",
       "      <th></th>\n",
       "      <th></th>\n",
       "      <th></th>\n",
       "      <th></th>\n",
       "      <th></th>\n",
       "      <th></th>\n",
       "      <th></th>\n",
       "      <th></th>\n",
       "      <th></th>\n",
       "      <th></th>\n",
       "      <th></th>\n",
       "      <th></th>\n",
       "    </tr>\n",
       "  </thead>\n",
       "  <tbody>\n",
       "    <tr>\n",
       "      <td>1</td>\n",
       "      <td>30</td>\n",
       "      <td>0</td>\n",
       "      <td>Non-Travel</td>\n",
       "      <td>Research &amp; Development</td>\n",
       "      <td>2</td>\n",
       "      <td>3</td>\n",
       "      <td>Medical</td>\n",
       "      <td>571</td>\n",
       "      <td>3</td>\n",
       "      <td>Female</td>\n",
       "      <td>3</td>\n",
       "      <td>Laboratory Technician</td>\n",
       "      <td>4</td>\n",
       "      <td>Single</td>\n",
       "      <td>2564</td>\n",
       "      <td>0</td>\n",
       "      <td>No</td>\n",
       "      <td>14</td>\n",
       "      <td>3</td>\n",
       "      <td>0</td>\n",
       "      <td>12</td>\n",
       "      <td>2</td>\n",
       "      <td>11</td>\n",
       "      <td>7</td>\n",
       "      <td>6</td>\n",
       "      <td>7</td>\n",
       "      <td>4</td>\n",
       "      <td>1</td>\n",
       "    </tr>\n",
       "    <tr>\n",
       "      <td>2</td>\n",
       "      <td>36</td>\n",
       "      <td>0</td>\n",
       "      <td>Travel_Rarely</td>\n",
       "      <td>Research &amp; Development</td>\n",
       "      <td>12</td>\n",
       "      <td>4</td>\n",
       "      <td>Life Sciences</td>\n",
       "      <td>1614</td>\n",
       "      <td>3</td>\n",
       "      <td>Female</td>\n",
       "      <td>3</td>\n",
       "      <td>Manufacturing Director</td>\n",
       "      <td>3</td>\n",
       "      <td>Married</td>\n",
       "      <td>4663</td>\n",
       "      <td>9</td>\n",
       "      <td>Yes</td>\n",
       "      <td>12</td>\n",
       "      <td>3</td>\n",
       "      <td>2</td>\n",
       "      <td>7</td>\n",
       "      <td>2</td>\n",
       "      <td>3</td>\n",
       "      <td>2</td>\n",
       "      <td>1</td>\n",
       "      <td>1</td>\n",
       "      <td>2</td>\n",
       "      <td>1</td>\n",
       "    </tr>\n",
       "    <tr>\n",
       "      <td>3</td>\n",
       "      <td>55</td>\n",
       "      <td>1</td>\n",
       "      <td>Travel_Rarely</td>\n",
       "      <td>Sales</td>\n",
       "      <td>2</td>\n",
       "      <td>1</td>\n",
       "      <td>Medical</td>\n",
       "      <td>842</td>\n",
       "      <td>3</td>\n",
       "      <td>Male</td>\n",
       "      <td>3</td>\n",
       "      <td>Sales Executive</td>\n",
       "      <td>4</td>\n",
       "      <td>Single</td>\n",
       "      <td>5160</td>\n",
       "      <td>4</td>\n",
       "      <td>No</td>\n",
       "      <td>16</td>\n",
       "      <td>3</td>\n",
       "      <td>0</td>\n",
       "      <td>12</td>\n",
       "      <td>3</td>\n",
       "      <td>9</td>\n",
       "      <td>7</td>\n",
       "      <td>7</td>\n",
       "      <td>3</td>\n",
       "      <td>5</td>\n",
       "      <td>1</td>\n",
       "    </tr>\n",
       "    <tr>\n",
       "      <td>4</td>\n",
       "      <td>39</td>\n",
       "      <td>0</td>\n",
       "      <td>Travel_Rarely</td>\n",
       "      <td>Research &amp; Development</td>\n",
       "      <td>24</td>\n",
       "      <td>1</td>\n",
       "      <td>Life Sciences</td>\n",
       "      <td>2014</td>\n",
       "      <td>1</td>\n",
       "      <td>Male</td>\n",
       "      <td>3</td>\n",
       "      <td>Research Scientist</td>\n",
       "      <td>4</td>\n",
       "      <td>Single</td>\n",
       "      <td>4108</td>\n",
       "      <td>7</td>\n",
       "      <td>No</td>\n",
       "      <td>13</td>\n",
       "      <td>3</td>\n",
       "      <td>0</td>\n",
       "      <td>18</td>\n",
       "      <td>2</td>\n",
       "      <td>7</td>\n",
       "      <td>7</td>\n",
       "      <td>1</td>\n",
       "      <td>7</td>\n",
       "      <td>4</td>\n",
       "      <td>1</td>\n",
       "    </tr>\n",
       "    <tr>\n",
       "      <td>5</td>\n",
       "      <td>37</td>\n",
       "      <td>0</td>\n",
       "      <td>Travel_Rarely</td>\n",
       "      <td>Research &amp; Development</td>\n",
       "      <td>3</td>\n",
       "      <td>3</td>\n",
       "      <td>Other</td>\n",
       "      <td>689</td>\n",
       "      <td>3</td>\n",
       "      <td>Male</td>\n",
       "      <td>3</td>\n",
       "      <td>Manufacturing Director</td>\n",
       "      <td>3</td>\n",
       "      <td>Married</td>\n",
       "      <td>9434</td>\n",
       "      <td>1</td>\n",
       "      <td>No</td>\n",
       "      <td>15</td>\n",
       "      <td>3</td>\n",
       "      <td>1</td>\n",
       "      <td>10</td>\n",
       "      <td>2</td>\n",
       "      <td>10</td>\n",
       "      <td>7</td>\n",
       "      <td>7</td>\n",
       "      <td>8</td>\n",
       "      <td>1</td>\n",
       "      <td>1</td>\n",
       "    </tr>\n",
       "    <tr>\n",
       "      <td>6</td>\n",
       "      <td>31</td>\n",
       "      <td>0</td>\n",
       "      <td>Travel_Rarely</td>\n",
       "      <td>Sales</td>\n",
       "      <td>7</td>\n",
       "      <td>4</td>\n",
       "      <td>Life Sciences</td>\n",
       "      <td>941</td>\n",
       "      <td>2</td>\n",
       "      <td>Male</td>\n",
       "      <td>2</td>\n",
       "      <td>Sales Representative</td>\n",
       "      <td>3</td>\n",
       "      <td>Married</td>\n",
       "      <td>2329</td>\n",
       "      <td>3</td>\n",
       "      <td>No</td>\n",
       "      <td>15</td>\n",
       "      <td>3</td>\n",
       "      <td>0</td>\n",
       "      <td>13</td>\n",
       "      <td>2</td>\n",
       "      <td>7</td>\n",
       "      <td>7</td>\n",
       "      <td>5</td>\n",
       "      <td>2</td>\n",
       "      <td>2</td>\n",
       "      <td>1</td>\n",
       "    </tr>\n",
       "    <tr>\n",
       "      <td>7</td>\n",
       "      <td>32</td>\n",
       "      <td>1</td>\n",
       "      <td>Travel_Rarely</td>\n",
       "      <td>Research &amp; Development</td>\n",
       "      <td>1</td>\n",
       "      <td>3</td>\n",
       "      <td>Life Sciences</td>\n",
       "      <td>331</td>\n",
       "      <td>4</td>\n",
       "      <td>Male</td>\n",
       "      <td>2</td>\n",
       "      <td>Laboratory Technician</td>\n",
       "      <td>3</td>\n",
       "      <td>Single</td>\n",
       "      <td>3730</td>\n",
       "      <td>0</td>\n",
       "      <td>Yes</td>\n",
       "      <td>14</td>\n",
       "      <td>3</td>\n",
       "      <td>0</td>\n",
       "      <td>4</td>\n",
       "      <td>2</td>\n",
       "      <td>3</td>\n",
       "      <td>2</td>\n",
       "      <td>1</td>\n",
       "      <td>2</td>\n",
       "      <td>1</td>\n",
       "      <td>1</td>\n",
       "    </tr>\n",
       "    <tr>\n",
       "      <td>8</td>\n",
       "      <td>33</td>\n",
       "      <td>0</td>\n",
       "      <td>Travel_Rarely</td>\n",
       "      <td>Research &amp; Development</td>\n",
       "      <td>4</td>\n",
       "      <td>4</td>\n",
       "      <td>Medical</td>\n",
       "      <td>1502</td>\n",
       "      <td>1</td>\n",
       "      <td>Female</td>\n",
       "      <td>2</td>\n",
       "      <td>Laboratory Technician</td>\n",
       "      <td>2</td>\n",
       "      <td>Married</td>\n",
       "      <td>3838</td>\n",
       "      <td>8</td>\n",
       "      <td>No</td>\n",
       "      <td>11</td>\n",
       "      <td>3</td>\n",
       "      <td>0</td>\n",
       "      <td>8</td>\n",
       "      <td>5</td>\n",
       "      <td>5</td>\n",
       "      <td>4</td>\n",
       "      <td>0</td>\n",
       "      <td>2</td>\n",
       "      <td>5</td>\n",
       "      <td>1</td>\n",
       "    </tr>\n",
       "  </tbody>\n",
       "</table>\n",
       "</div>"
      ],
      "text/plain": [
       "    Age  Attrition BusinessTravel              Department  DistanceFromHome  \\\n",
       "Id                                                                            \n",
       "1    30          0     Non-Travel  Research & Development                 2   \n",
       "2    36          0  Travel_Rarely  Research & Development                12   \n",
       "3    55          1  Travel_Rarely                   Sales                 2   \n",
       "4    39          0  Travel_Rarely  Research & Development                24   \n",
       "5    37          0  Travel_Rarely  Research & Development                 3   \n",
       "6    31          0  Travel_Rarely                   Sales                 7   \n",
       "7    32          1  Travel_Rarely  Research & Development                 1   \n",
       "8    33          0  Travel_Rarely  Research & Development                 4   \n",
       "\n",
       "    Education EducationField  EmployeeNumber  EnvironmentSatisfaction  Gender  \\\n",
       "Id                                                                              \n",
       "1           3        Medical             571                        3  Female   \n",
       "2           4  Life Sciences            1614                        3  Female   \n",
       "3           1        Medical             842                        3    Male   \n",
       "4           1  Life Sciences            2014                        1    Male   \n",
       "5           3          Other             689                        3    Male   \n",
       "6           4  Life Sciences             941                        2    Male   \n",
       "7           3  Life Sciences             331                        4    Male   \n",
       "8           4        Medical            1502                        1  Female   \n",
       "\n",
       "    JobInvolvement                 JobRole  JobSatisfaction MaritalStatus  \\\n",
       "Id                                                                          \n",
       "1                3   Laboratory Technician                4        Single   \n",
       "2                3  Manufacturing Director                3       Married   \n",
       "3                3         Sales Executive                4        Single   \n",
       "4                3      Research Scientist                4        Single   \n",
       "5                3  Manufacturing Director                3       Married   \n",
       "6                2    Sales Representative                3       Married   \n",
       "7                2   Laboratory Technician                3        Single   \n",
       "8                2   Laboratory Technician                2       Married   \n",
       "\n",
       "    MonthlyIncome  NumCompaniesWorked OverTime  PercentSalaryHike  \\\n",
       "Id                                                                  \n",
       "1            2564                   0       No                 14   \n",
       "2            4663                   9      Yes                 12   \n",
       "3            5160                   4       No                 16   \n",
       "4            4108                   7       No                 13   \n",
       "5            9434                   1       No                 15   \n",
       "6            2329                   3       No                 15   \n",
       "7            3730                   0      Yes                 14   \n",
       "8            3838                   8       No                 11   \n",
       "\n",
       "    PerformanceRating  StockOptionLevel  TotalWorkingYears  \\\n",
       "Id                                                           \n",
       "1                   3                 0                 12   \n",
       "2                   3                 2                  7   \n",
       "3                   3                 0                 12   \n",
       "4                   3                 0                 18   \n",
       "5                   3                 1                 10   \n",
       "6                   3                 0                 13   \n",
       "7                   3                 0                  4   \n",
       "8                   3                 0                  8   \n",
       "\n",
       "    TrainingTimesLastYear  YearsAtCompany  YearsInCurrentRole  \\\n",
       "Id                                                              \n",
       "1                       2              11                   7   \n",
       "2                       2               3                   2   \n",
       "3                       3               9                   7   \n",
       "4                       2               7                   7   \n",
       "5                       2              10                   7   \n",
       "6                       2               7                   7   \n",
       "7                       2               3                   2   \n",
       "8                       5               5                   4   \n",
       "\n",
       "    YearsSinceLastPromotion  YearsWithCurrManager  CommunicationSkill  \\\n",
       "Id                                                                      \n",
       "1                         6                     7                   4   \n",
       "2                         1                     1                   2   \n",
       "3                         7                     3                   5   \n",
       "4                         1                     7                   4   \n",
       "5                         7                     8                   1   \n",
       "6                         5                     2                   2   \n",
       "7                         1                     2                   1   \n",
       "8                         0                     2                   5   \n",
       "\n",
       "    Behaviour  \n",
       "Id             \n",
       "1           1  \n",
       "2           1  \n",
       "3           1  \n",
       "4           1  \n",
       "5           1  \n",
       "6           1  \n",
       "7           1  \n",
       "8           1  "
      ]
     },
     "execution_count": 4,
     "metadata": {},
     "output_type": "execute_result"
    }
   ],
   "source": [
    "#check how your data looks\n",
    "train_data_orig.head(8)"
   ]
  },
  {
   "cell_type": "code",
   "execution_count": 5,
   "metadata": {},
   "outputs": [
    {
     "data": {
      "text/plain": [
       "0"
      ]
     },
     "execution_count": 5,
     "metadata": {},
     "output_type": "execute_result"
    }
   ],
   "source": [
    "#check for null values\n",
    "train_data_orig.isnull().sum().sum()"
   ]
  },
  {
   "cell_type": "markdown",
   "metadata": {},
   "source": [
    "Training Data looks pretty clean"
   ]
  },
  {
   "cell_type": "code",
   "execution_count": 6,
   "metadata": {},
   "outputs": [],
   "source": [
    "#split the data into predictor and prediction\n",
    "#store in separate variable everytime to avoid some invisible errors\n",
    "X_orig = train_data_orig.drop(['Attrition'],axis=1)\n",
    "y = train_data_orig.Attrition"
   ]
  },
  {
   "cell_type": "code",
   "execution_count": 7,
   "metadata": {},
   "outputs": [],
   "source": [
    "# There are columns with datatype object\n",
    "# Convert it into integer for better ML implementation\n",
    "# LabelEncoder used for same purpose (OneHotEncoder can also be used)\n",
    "\n",
    "X = X_orig.copy() # keep your original data unaltered  \n",
    "X_test = test_data_orig.copy()\n",
    "label_encoder = LabelEncoder()\n",
    "columns = X.columns\n",
    "# List of Object columns\n",
    "object_cols = [col for col in X.columns if X[col].dtype == \"object\"] \n",
    "\n",
    "# Always do Same preprocessing for Train and Test data\n",
    "for col in object_cols:\n",
    "    X[col] = label_encoder.fit_transform(X[col])\n",
    "    X_test[col] = label_encoder.fit_transform(X_test[col])"
   ]
  },
  {
   "cell_type": "code",
   "execution_count": 9,
   "metadata": {},
   "outputs": [
    {
     "data": {
      "text/html": [
       "<div>\n",
       "<style scoped>\n",
       "    .dataframe tbody tr th:only-of-type {\n",
       "        vertical-align: middle;\n",
       "    }\n",
       "\n",
       "    .dataframe tbody tr th {\n",
       "        vertical-align: top;\n",
       "    }\n",
       "\n",
       "    .dataframe thead th {\n",
       "        text-align: right;\n",
       "    }\n",
       "</style>\n",
       "<table border=\"1\" class=\"dataframe\">\n",
       "  <thead>\n",
       "    <tr style=\"text-align: right;\">\n",
       "      <th></th>\n",
       "      <th>Age</th>\n",
       "      <th>BusinessTravel</th>\n",
       "      <th>Department</th>\n",
       "      <th>DistanceFromHome</th>\n",
       "      <th>Education</th>\n",
       "      <th>EducationField</th>\n",
       "      <th>EmployeeNumber</th>\n",
       "      <th>EnvironmentSatisfaction</th>\n",
       "      <th>Gender</th>\n",
       "      <th>JobInvolvement</th>\n",
       "      <th>JobRole</th>\n",
       "      <th>JobSatisfaction</th>\n",
       "      <th>MaritalStatus</th>\n",
       "      <th>MonthlyIncome</th>\n",
       "      <th>NumCompaniesWorked</th>\n",
       "      <th>OverTime</th>\n",
       "      <th>PercentSalaryHike</th>\n",
       "      <th>PerformanceRating</th>\n",
       "      <th>StockOptionLevel</th>\n",
       "      <th>TotalWorkingYears</th>\n",
       "      <th>TrainingTimesLastYear</th>\n",
       "      <th>YearsAtCompany</th>\n",
       "      <th>YearsInCurrentRole</th>\n",
       "      <th>YearsSinceLastPromotion</th>\n",
       "      <th>YearsWithCurrManager</th>\n",
       "      <th>CommunicationSkill</th>\n",
       "      <th>Behaviour</th>\n",
       "    </tr>\n",
       "    <tr>\n",
       "      <th>Id</th>\n",
       "      <th></th>\n",
       "      <th></th>\n",
       "      <th></th>\n",
       "      <th></th>\n",
       "      <th></th>\n",
       "      <th></th>\n",
       "      <th></th>\n",
       "      <th></th>\n",
       "      <th></th>\n",
       "      <th></th>\n",
       "      <th></th>\n",
       "      <th></th>\n",
       "      <th></th>\n",
       "      <th></th>\n",
       "      <th></th>\n",
       "      <th></th>\n",
       "      <th></th>\n",
       "      <th></th>\n",
       "      <th></th>\n",
       "      <th></th>\n",
       "      <th></th>\n",
       "      <th></th>\n",
       "      <th></th>\n",
       "      <th></th>\n",
       "      <th></th>\n",
       "      <th></th>\n",
       "      <th></th>\n",
       "    </tr>\n",
       "  </thead>\n",
       "  <tbody>\n",
       "    <tr>\n",
       "      <td>1</td>\n",
       "      <td>30</td>\n",
       "      <td>0</td>\n",
       "      <td>1</td>\n",
       "      <td>2</td>\n",
       "      <td>3</td>\n",
       "      <td>3</td>\n",
       "      <td>571</td>\n",
       "      <td>3</td>\n",
       "      <td>0</td>\n",
       "      <td>3</td>\n",
       "      <td>2</td>\n",
       "      <td>4</td>\n",
       "      <td>2</td>\n",
       "      <td>2564</td>\n",
       "      <td>0</td>\n",
       "      <td>0</td>\n",
       "      <td>14</td>\n",
       "      <td>3</td>\n",
       "      <td>0</td>\n",
       "      <td>12</td>\n",
       "      <td>2</td>\n",
       "      <td>11</td>\n",
       "      <td>7</td>\n",
       "      <td>6</td>\n",
       "      <td>7</td>\n",
       "      <td>4</td>\n",
       "      <td>1</td>\n",
       "    </tr>\n",
       "    <tr>\n",
       "      <td>2</td>\n",
       "      <td>36</td>\n",
       "      <td>2</td>\n",
       "      <td>1</td>\n",
       "      <td>12</td>\n",
       "      <td>4</td>\n",
       "      <td>1</td>\n",
       "      <td>1614</td>\n",
       "      <td>3</td>\n",
       "      <td>0</td>\n",
       "      <td>3</td>\n",
       "      <td>4</td>\n",
       "      <td>3</td>\n",
       "      <td>1</td>\n",
       "      <td>4663</td>\n",
       "      <td>9</td>\n",
       "      <td>1</td>\n",
       "      <td>12</td>\n",
       "      <td>3</td>\n",
       "      <td>2</td>\n",
       "      <td>7</td>\n",
       "      <td>2</td>\n",
       "      <td>3</td>\n",
       "      <td>2</td>\n",
       "      <td>1</td>\n",
       "      <td>1</td>\n",
       "      <td>2</td>\n",
       "      <td>1</td>\n",
       "    </tr>\n",
       "    <tr>\n",
       "      <td>3</td>\n",
       "      <td>55</td>\n",
       "      <td>2</td>\n",
       "      <td>2</td>\n",
       "      <td>2</td>\n",
       "      <td>1</td>\n",
       "      <td>3</td>\n",
       "      <td>842</td>\n",
       "      <td>3</td>\n",
       "      <td>1</td>\n",
       "      <td>3</td>\n",
       "      <td>7</td>\n",
       "      <td>4</td>\n",
       "      <td>2</td>\n",
       "      <td>5160</td>\n",
       "      <td>4</td>\n",
       "      <td>0</td>\n",
       "      <td>16</td>\n",
       "      <td>3</td>\n",
       "      <td>0</td>\n",
       "      <td>12</td>\n",
       "      <td>3</td>\n",
       "      <td>9</td>\n",
       "      <td>7</td>\n",
       "      <td>7</td>\n",
       "      <td>3</td>\n",
       "      <td>5</td>\n",
       "      <td>1</td>\n",
       "    </tr>\n",
       "    <tr>\n",
       "      <td>4</td>\n",
       "      <td>39</td>\n",
       "      <td>2</td>\n",
       "      <td>1</td>\n",
       "      <td>24</td>\n",
       "      <td>1</td>\n",
       "      <td>1</td>\n",
       "      <td>2014</td>\n",
       "      <td>1</td>\n",
       "      <td>1</td>\n",
       "      <td>3</td>\n",
       "      <td>6</td>\n",
       "      <td>4</td>\n",
       "      <td>2</td>\n",
       "      <td>4108</td>\n",
       "      <td>7</td>\n",
       "      <td>0</td>\n",
       "      <td>13</td>\n",
       "      <td>3</td>\n",
       "      <td>0</td>\n",
       "      <td>18</td>\n",
       "      <td>2</td>\n",
       "      <td>7</td>\n",
       "      <td>7</td>\n",
       "      <td>1</td>\n",
       "      <td>7</td>\n",
       "      <td>4</td>\n",
       "      <td>1</td>\n",
       "    </tr>\n",
       "    <tr>\n",
       "      <td>5</td>\n",
       "      <td>37</td>\n",
       "      <td>2</td>\n",
       "      <td>1</td>\n",
       "      <td>3</td>\n",
       "      <td>3</td>\n",
       "      <td>4</td>\n",
       "      <td>689</td>\n",
       "      <td>3</td>\n",
       "      <td>1</td>\n",
       "      <td>3</td>\n",
       "      <td>4</td>\n",
       "      <td>3</td>\n",
       "      <td>1</td>\n",
       "      <td>9434</td>\n",
       "      <td>1</td>\n",
       "      <td>0</td>\n",
       "      <td>15</td>\n",
       "      <td>3</td>\n",
       "      <td>1</td>\n",
       "      <td>10</td>\n",
       "      <td>2</td>\n",
       "      <td>10</td>\n",
       "      <td>7</td>\n",
       "      <td>7</td>\n",
       "      <td>8</td>\n",
       "      <td>1</td>\n",
       "      <td>1</td>\n",
       "    </tr>\n",
       "  </tbody>\n",
       "</table>\n",
       "</div>"
      ],
      "text/plain": [
       "    Age  BusinessTravel  Department  DistanceFromHome  Education  \\\n",
       "Id                                                                 \n",
       "1    30               0           1                 2          3   \n",
       "2    36               2           1                12          4   \n",
       "3    55               2           2                 2          1   \n",
       "4    39               2           1                24          1   \n",
       "5    37               2           1                 3          3   \n",
       "\n",
       "    EducationField  EmployeeNumber  EnvironmentSatisfaction  Gender  \\\n",
       "Id                                                                    \n",
       "1                3             571                        3       0   \n",
       "2                1            1614                        3       0   \n",
       "3                3             842                        3       1   \n",
       "4                1            2014                        1       1   \n",
       "5                4             689                        3       1   \n",
       "\n",
       "    JobInvolvement  JobRole  JobSatisfaction  MaritalStatus  MonthlyIncome  \\\n",
       "Id                                                                           \n",
       "1                3        2                4              2           2564   \n",
       "2                3        4                3              1           4663   \n",
       "3                3        7                4              2           5160   \n",
       "4                3        6                4              2           4108   \n",
       "5                3        4                3              1           9434   \n",
       "\n",
       "    NumCompaniesWorked  OverTime  PercentSalaryHike  PerformanceRating  \\\n",
       "Id                                                                       \n",
       "1                    0         0                 14                  3   \n",
       "2                    9         1                 12                  3   \n",
       "3                    4         0                 16                  3   \n",
       "4                    7         0                 13                  3   \n",
       "5                    1         0                 15                  3   \n",
       "\n",
       "    StockOptionLevel  TotalWorkingYears  TrainingTimesLastYear  \\\n",
       "Id                                                               \n",
       "1                  0                 12                      2   \n",
       "2                  2                  7                      2   \n",
       "3                  0                 12                      3   \n",
       "4                  0                 18                      2   \n",
       "5                  1                 10                      2   \n",
       "\n",
       "    YearsAtCompany  YearsInCurrentRole  YearsSinceLastPromotion  \\\n",
       "Id                                                                \n",
       "1               11                   7                        6   \n",
       "2                3                   2                        1   \n",
       "3                9                   7                        7   \n",
       "4                7                   7                        1   \n",
       "5               10                   7                        7   \n",
       "\n",
       "    YearsWithCurrManager  CommunicationSkill  Behaviour  \n",
       "Id                                                       \n",
       "1                      7                   4          1  \n",
       "2                      1                   2          1  \n",
       "3                      3                   5          1  \n",
       "4                      7                   4          1  \n",
       "5                      8                   1          1  "
      ]
     },
     "execution_count": 9,
     "metadata": {},
     "output_type": "execute_result"
    }
   ],
   "source": [
    "# Check how it looks\n",
    "X.head()"
   ]
  },
  {
   "cell_type": "code",
   "execution_count": 10,
   "metadata": {},
   "outputs": [
    {
     "data": {
      "text/html": [
       "<div>\n",
       "<style scoped>\n",
       "    .dataframe tbody tr th:only-of-type {\n",
       "        vertical-align: middle;\n",
       "    }\n",
       "\n",
       "    .dataframe tbody tr th {\n",
       "        vertical-align: top;\n",
       "    }\n",
       "\n",
       "    .dataframe thead th {\n",
       "        text-align: right;\n",
       "    }\n",
       "</style>\n",
       "<table border=\"1\" class=\"dataframe\">\n",
       "  <thead>\n",
       "    <tr style=\"text-align: right;\">\n",
       "      <th></th>\n",
       "      <th>Age</th>\n",
       "      <th>BusinessTravel</th>\n",
       "      <th>Department</th>\n",
       "      <th>DistanceFromHome</th>\n",
       "      <th>Education</th>\n",
       "      <th>EducationField</th>\n",
       "      <th>EmployeeNumber</th>\n",
       "      <th>EnvironmentSatisfaction</th>\n",
       "      <th>Gender</th>\n",
       "      <th>JobInvolvement</th>\n",
       "      <th>JobRole</th>\n",
       "      <th>JobSatisfaction</th>\n",
       "      <th>MaritalStatus</th>\n",
       "      <th>MonthlyIncome</th>\n",
       "      <th>NumCompaniesWorked</th>\n",
       "      <th>OverTime</th>\n",
       "      <th>PercentSalaryHike</th>\n",
       "      <th>PerformanceRating</th>\n",
       "      <th>StockOptionLevel</th>\n",
       "      <th>TotalWorkingYears</th>\n",
       "      <th>TrainingTimesLastYear</th>\n",
       "      <th>YearsAtCompany</th>\n",
       "      <th>YearsInCurrentRole</th>\n",
       "      <th>YearsSinceLastPromotion</th>\n",
       "      <th>YearsWithCurrManager</th>\n",
       "      <th>CommunicationSkill</th>\n",
       "      <th>Behaviour</th>\n",
       "    </tr>\n",
       "    <tr>\n",
       "      <th>Id</th>\n",
       "      <th></th>\n",
       "      <th></th>\n",
       "      <th></th>\n",
       "      <th></th>\n",
       "      <th></th>\n",
       "      <th></th>\n",
       "      <th></th>\n",
       "      <th></th>\n",
       "      <th></th>\n",
       "      <th></th>\n",
       "      <th></th>\n",
       "      <th></th>\n",
       "      <th></th>\n",
       "      <th></th>\n",
       "      <th></th>\n",
       "      <th></th>\n",
       "      <th></th>\n",
       "      <th></th>\n",
       "      <th></th>\n",
       "      <th></th>\n",
       "      <th></th>\n",
       "      <th></th>\n",
       "      <th></th>\n",
       "      <th></th>\n",
       "      <th></th>\n",
       "      <th></th>\n",
       "      <th></th>\n",
       "    </tr>\n",
       "  </thead>\n",
       "  <tbody>\n",
       "    <tr>\n",
       "      <td>1</td>\n",
       "      <td>28</td>\n",
       "      <td>2</td>\n",
       "      <td>1</td>\n",
       "      <td>9</td>\n",
       "      <td>3</td>\n",
       "      <td>3</td>\n",
       "      <td>377</td>\n",
       "      <td>4</td>\n",
       "      <td>1</td>\n",
       "      <td>3</td>\n",
       "      <td>6</td>\n",
       "      <td>4</td>\n",
       "      <td>1</td>\n",
       "      <td>2070</td>\n",
       "      <td>1</td>\n",
       "      <td>0</td>\n",
       "      <td>23</td>\n",
       "      <td>4</td>\n",
       "      <td>1</td>\n",
       "      <td>5</td>\n",
       "      <td>3</td>\n",
       "      <td>5</td>\n",
       "      <td>2</td>\n",
       "      <td>0</td>\n",
       "      <td>4</td>\n",
       "      <td>5</td>\n",
       "      <td>1</td>\n",
       "    </tr>\n",
       "    <tr>\n",
       "      <td>2</td>\n",
       "      <td>31</td>\n",
       "      <td>2</td>\n",
       "      <td>2</td>\n",
       "      <td>6</td>\n",
       "      <td>4</td>\n",
       "      <td>3</td>\n",
       "      <td>653</td>\n",
       "      <td>1</td>\n",
       "      <td>1</td>\n",
       "      <td>4</td>\n",
       "      <td>7</td>\n",
       "      <td>4</td>\n",
       "      <td>0</td>\n",
       "      <td>5460</td>\n",
       "      <td>4</td>\n",
       "      <td>0</td>\n",
       "      <td>22</td>\n",
       "      <td>4</td>\n",
       "      <td>2</td>\n",
       "      <td>13</td>\n",
       "      <td>4</td>\n",
       "      <td>7</td>\n",
       "      <td>7</td>\n",
       "      <td>5</td>\n",
       "      <td>7</td>\n",
       "      <td>3</td>\n",
       "      <td>1</td>\n",
       "    </tr>\n",
       "    <tr>\n",
       "      <td>3</td>\n",
       "      <td>37</td>\n",
       "      <td>2</td>\n",
       "      <td>1</td>\n",
       "      <td>6</td>\n",
       "      <td>3</td>\n",
       "      <td>3</td>\n",
       "      <td>474</td>\n",
       "      <td>3</td>\n",
       "      <td>1</td>\n",
       "      <td>4</td>\n",
       "      <td>6</td>\n",
       "      <td>1</td>\n",
       "      <td>0</td>\n",
       "      <td>5974</td>\n",
       "      <td>4</td>\n",
       "      <td>1</td>\n",
       "      <td>13</td>\n",
       "      <td>3</td>\n",
       "      <td>2</td>\n",
       "      <td>13</td>\n",
       "      <td>2</td>\n",
       "      <td>7</td>\n",
       "      <td>7</td>\n",
       "      <td>6</td>\n",
       "      <td>7</td>\n",
       "      <td>4</td>\n",
       "      <td>1</td>\n",
       "    </tr>\n",
       "    <tr>\n",
       "      <td>4</td>\n",
       "      <td>42</td>\n",
       "      <td>2</td>\n",
       "      <td>1</td>\n",
       "      <td>1</td>\n",
       "      <td>2</td>\n",
       "      <td>1</td>\n",
       "      <td>827</td>\n",
       "      <td>4</td>\n",
       "      <td>0</td>\n",
       "      <td>2</td>\n",
       "      <td>4</td>\n",
       "      <td>4</td>\n",
       "      <td>1</td>\n",
       "      <td>6062</td>\n",
       "      <td>9</td>\n",
       "      <td>1</td>\n",
       "      <td>13</td>\n",
       "      <td>3</td>\n",
       "      <td>1</td>\n",
       "      <td>8</td>\n",
       "      <td>4</td>\n",
       "      <td>4</td>\n",
       "      <td>3</td>\n",
       "      <td>0</td>\n",
       "      <td>2</td>\n",
       "      <td>5</td>\n",
       "      <td>1</td>\n",
       "    </tr>\n",
       "    <tr>\n",
       "      <td>5</td>\n",
       "      <td>45</td>\n",
       "      <td>0</td>\n",
       "      <td>1</td>\n",
       "      <td>4</td>\n",
       "      <td>2</td>\n",
       "      <td>1</td>\n",
       "      <td>972</td>\n",
       "      <td>3</td>\n",
       "      <td>1</td>\n",
       "      <td>3</td>\n",
       "      <td>2</td>\n",
       "      <td>2</td>\n",
       "      <td>1</td>\n",
       "      <td>4447</td>\n",
       "      <td>1</td>\n",
       "      <td>0</td>\n",
       "      <td>12</td>\n",
       "      <td>3</td>\n",
       "      <td>0</td>\n",
       "      <td>9</td>\n",
       "      <td>5</td>\n",
       "      <td>9</td>\n",
       "      <td>7</td>\n",
       "      <td>0</td>\n",
       "      <td>8</td>\n",
       "      <td>2</td>\n",
       "      <td>1</td>\n",
       "    </tr>\n",
       "  </tbody>\n",
       "</table>\n",
       "</div>"
      ],
      "text/plain": [
       "    Age  BusinessTravel  Department  DistanceFromHome  Education  \\\n",
       "Id                                                                 \n",
       "1    28               2           1                 9          3   \n",
       "2    31               2           2                 6          4   \n",
       "3    37               2           1                 6          3   \n",
       "4    42               2           1                 1          2   \n",
       "5    45               0           1                 4          2   \n",
       "\n",
       "    EducationField  EmployeeNumber  EnvironmentSatisfaction  Gender  \\\n",
       "Id                                                                    \n",
       "1                3             377                        4       1   \n",
       "2                3             653                        1       1   \n",
       "3                3             474                        3       1   \n",
       "4                1             827                        4       0   \n",
       "5                1             972                        3       1   \n",
       "\n",
       "    JobInvolvement  JobRole  JobSatisfaction  MaritalStatus  MonthlyIncome  \\\n",
       "Id                                                                           \n",
       "1                3        6                4              1           2070   \n",
       "2                4        7                4              0           5460   \n",
       "3                4        6                1              0           5974   \n",
       "4                2        4                4              1           6062   \n",
       "5                3        2                2              1           4447   \n",
       "\n",
       "    NumCompaniesWorked  OverTime  PercentSalaryHike  PerformanceRating  \\\n",
       "Id                                                                       \n",
       "1                    1         0                 23                  4   \n",
       "2                    4         0                 22                  4   \n",
       "3                    4         1                 13                  3   \n",
       "4                    9         1                 13                  3   \n",
       "5                    1         0                 12                  3   \n",
       "\n",
       "    StockOptionLevel  TotalWorkingYears  TrainingTimesLastYear  \\\n",
       "Id                                                               \n",
       "1                  1                  5                      3   \n",
       "2                  2                 13                      4   \n",
       "3                  2                 13                      2   \n",
       "4                  1                  8                      4   \n",
       "5                  0                  9                      5   \n",
       "\n",
       "    YearsAtCompany  YearsInCurrentRole  YearsSinceLastPromotion  \\\n",
       "Id                                                                \n",
       "1                5                   2                        0   \n",
       "2                7                   7                        5   \n",
       "3                7                   7                        6   \n",
       "4                4                   3                        0   \n",
       "5                9                   7                        0   \n",
       "\n",
       "    YearsWithCurrManager  CommunicationSkill  Behaviour  \n",
       "Id                                                       \n",
       "1                      4                   5          1  \n",
       "2                      7                   3          1  \n",
       "3                      7                   4          1  \n",
       "4                      2                   5          1  \n",
       "5                      8                   2          1  "
      ]
     },
     "execution_count": 10,
     "metadata": {},
     "output_type": "execute_result"
    }
   ],
   "source": [
    "X_test.head()"
   ]
  },
  {
   "cell_type": "code",
   "execution_count": 11,
   "metadata": {},
   "outputs": [
    {
     "name": "stdout",
     "output_type": "stream",
     "text": [
      "Age 43\n",
      "BusinessTravel 3\n",
      "Department 3\n",
      "DistanceFromHome 29\n",
      "Education 5\n",
      "EducationField 6\n",
      "EmployeeNumber 1000\n",
      "EnvironmentSatisfaction 4\n",
      "Gender 2\n",
      "JobInvolvement 4\n",
      "JobRole 9\n",
      "JobSatisfaction 4\n",
      "MaritalStatus 3\n",
      "MonthlyIncome 941\n",
      "NumCompaniesWorked 10\n",
      "OverTime 2\n",
      "PercentSalaryHike 15\n",
      "PerformanceRating 2\n",
      "StockOptionLevel 4\n",
      "TotalWorkingYears 39\n",
      "TrainingTimesLastYear 7\n",
      "YearsAtCompany 36\n",
      "YearsInCurrentRole 19\n",
      "YearsSinceLastPromotion 16\n",
      "YearsWithCurrManager 18\n",
      "CommunicationSkill 5\n",
      "Behaviour 1\n"
     ]
    }
   ],
   "source": [
    "# check for columns with less or very large no. of unique entries\n",
    "for col in X.columns:\n",
    "    print(col,X[col].nunique())"
   ]
  },
  {
   "cell_type": "code",
   "execution_count": 12,
   "metadata": {},
   "outputs": [],
   "source": [
    "# 'Behaviour' column is of no use\n",
    "X.drop(['Behaviour'],axis=1,inplace=True)\n",
    "X_test.drop(['Behaviour'],axis=1,inplace=True)"
   ]
  },
  {
   "cell_type": "code",
   "execution_count": 13,
   "metadata": {},
   "outputs": [
    {
     "name": "stdout",
     "output_type": "stream",
     "text": [
      "(1628, 26) (470, 26)\n"
     ]
    }
   ],
   "source": [
    "# Shape of data\n",
    "print(X.shape,X_test.shape)"
   ]
  },
  {
   "cell_type": "markdown",
   "metadata": {},
   "source": [
    "## Checking score with very rough models\n",
    "## Without further Preprocessing"
   ]
  },
  {
   "cell_type": "code",
   "execution_count": 14,
   "metadata": {},
   "outputs": [],
   "source": [
    "def crossvalidationscore(model, X, y, cv):\n",
    "    '''\n",
    "    A function to return cross validation scores to prevent overfitting with one part of data\n",
    "    This will take every data at least once in every model as in training set or validation set \n",
    "    '''\n",
    "    scorelist = cross_val_score(model, X, y, cv = cv, scoring = 'roc_auc')\n",
    "    meanscore = scorelist.mean()\n",
    "    return {'scorelist':scorelist, 'meanscore':meanscore}"
   ]
  },
  {
   "cell_type": "code",
   "execution_count": 15,
   "metadata": {},
   "outputs": [],
   "source": [
    "# TrainTestSplit for checking scores \n",
    "X_train, X_valid, y_train, y_valid = train_test_split(X, y, train_size=0.8,random_state=1)"
   ]
  },
  {
   "cell_type": "markdown",
   "metadata": {},
   "source": [
    "#  Starting with basic models"
   ]
  },
  {
   "cell_type": "markdown",
   "metadata": {},
   "source": [
    "# Logistic Regression"
   ]
  },
  {
   "cell_type": "code",
   "execution_count": 16,
   "metadata": {},
   "outputs": [
    {
     "name": "stdout",
     "output_type": "stream",
     "text": [
      "{'scorelist': array([0.85090265, 0.8476614 , 0.84573927, 0.85232787, 0.84159842]), 'meanscore': 0.847645923405355}\n"
     ]
    }
   ],
   "source": [
    "LR = LogisticRegression(solver='lbfgs')\n",
    "print(crossvalidationscore(LR, StandardScaler().fit_transform(X), y, 5))"
   ]
  },
  {
   "cell_type": "markdown",
   "metadata": {},
   "source": [
    "# Naive Bayes"
   ]
  },
  {
   "cell_type": "code",
   "execution_count": 17,
   "metadata": {},
   "outputs": [
    {
     "name": "stdout",
     "output_type": "stream",
     "text": [
      "{'scorelist': array([0.78664305, 0.78630385, 0.7850978 , 0.77972399, 0.76747801]), 'meanscore': 0.7810493401747689}\n"
     ]
    }
   ],
   "source": [
    "nb = GaussianNB()\n",
    "print(crossvalidationscore(nb, StandardScaler().fit_transform(X), y, 5))"
   ]
  },
  {
   "cell_type": "markdown",
   "metadata": {},
   "source": [
    "# XGBoost"
   ]
  },
  {
   "cell_type": "code",
   "execution_count": 18,
   "metadata": {},
   "outputs": [
    {
     "name": "stdout",
     "output_type": "stream",
     "text": [
      "{'scorelist': array([0.96932122, 0.96069046, 0.97199714, 0.97554595, 0.97600091]), 'meanscore': 0.97071113599776}\n"
     ]
    }
   ],
   "source": [
    "xgb = XGBClassifier()\n",
    "print(crossvalidationscore(xgb, StandardScaler().fit_transform(X), y, 5))"
   ]
  },
  {
   "cell_type": "markdown",
   "metadata": {},
   "source": [
    "# NeuralNetwork"
   ]
  },
  {
   "cell_type": "code",
   "execution_count": 19,
   "metadata": {},
   "outputs": [
    {
     "name": "stdout",
     "output_type": "stream",
     "text": [
      "{'scorelist': array([0.97817812, 0.97761278, 0.97795198, 0.98745071, 0.94661814]), 'meanscore': 0.9735623473374575}\n"
     ]
    }
   ],
   "source": [
    "nn = MLPClassifier(max_iter=2000)\n",
    "print(crossvalidationscore(nn, StandardScaler().fit_transform(X), y, 5))"
   ]
  },
  {
   "cell_type": "markdown",
   "metadata": {},
   "source": [
    "# SVM"
   ]
  },
  {
   "cell_type": "code",
   "execution_count": 20,
   "metadata": {},
   "outputs": [
    {
     "name": "stdout",
     "output_type": "stream",
     "text": [
      "{'scorelist': array([0.97896959, 0.97252478, 0.97746203, 0.98623749, 0.97543221]), 'meanscore': 0.9781252187303142}\n"
     ]
    }
   ],
   "source": [
    "from sklearn.svm import SVC\n",
    "svc = SVC(gamma='scale')\n",
    "print(crossvalidationscore(svc, StandardScaler().fit_transform(X), y, 5))"
   ]
  },
  {
   "cell_type": "markdown",
   "metadata": {},
   "source": [
    "# AdaBoostClassifier"
   ]
  },
  {
   "cell_type": "code",
   "execution_count": 21,
   "metadata": {},
   "outputs": [
    {
     "name": "stdout",
     "output_type": "stream",
     "text": [
      "{'scorelist': array([0.91689594, 0.90577771, 0.92292617, 0.92553837, 0.90764331]), 'meanscore': 0.9157562998817286}\n"
     ]
    }
   ],
   "source": [
    "abc = AdaBoostClassifier()\n",
    "print(crossvalidationscore(abc, StandardScaler().fit_transform(X), y, 5))"
   ]
  },
  {
   "cell_type": "markdown",
   "metadata": {},
   "source": [
    " # RandomForest"
   ]
  },
  {
   "cell_type": "code",
   "execution_count": 22,
   "metadata": {},
   "outputs": [
    {
     "name": "stdout",
     "output_type": "stream",
     "text": [
      "{'scorelist': array([1., 1., 1., 1., 1.]), 'meanscore': 1.0}\n"
     ]
    }
   ],
   "source": [
    "rfr = RandomForestClassifier(n_estimators=100)\n",
    "print(crossvalidationscore(rfr, StandardScaler().fit_transform(X), y, 5))"
   ]
  },
  {
   "cell_type": "markdown",
   "metadata": {},
   "source": [
    "### Three best models are #Randomforest, #SVC, #Neural_network"
   ]
  },
  {
   "cell_type": "markdown",
   "metadata": {},
   "source": [
    "'roc_auc score' is 1 for RF.   \n",
    "Looks pretty perfect.   \n",
    "let's submit our predictions on kaggle and check results."
   ]
  },
  {
   "cell_type": "code",
   "execution_count": 23,
   "metadata": {},
   "outputs": [
    {
     "data": {
      "text/html": [
       "<div>\n",
       "<style scoped>\n",
       "    .dataframe tbody tr th:only-of-type {\n",
       "        vertical-align: middle;\n",
       "    }\n",
       "\n",
       "    .dataframe tbody tr th {\n",
       "        vertical-align: top;\n",
       "    }\n",
       "\n",
       "    .dataframe thead th {\n",
       "        text-align: right;\n",
       "    }\n",
       "</style>\n",
       "<table border=\"1\" class=\"dataframe\">\n",
       "  <thead>\n",
       "    <tr style=\"text-align: right;\">\n",
       "      <th></th>\n",
       "      <th>Id</th>\n",
       "      <th>Attrition</th>\n",
       "    </tr>\n",
       "  </thead>\n",
       "  <tbody>\n",
       "    <tr>\n",
       "      <td>0</td>\n",
       "      <td>1</td>\n",
       "      <td>0.742476</td>\n",
       "    </tr>\n",
       "    <tr>\n",
       "      <td>1</td>\n",
       "      <td>2</td>\n",
       "      <td>0.347438</td>\n",
       "    </tr>\n",
       "    <tr>\n",
       "      <td>2</td>\n",
       "      <td>3</td>\n",
       "      <td>0.938753</td>\n",
       "    </tr>\n",
       "    <tr>\n",
       "      <td>3</td>\n",
       "      <td>4</td>\n",
       "      <td>0.456471</td>\n",
       "    </tr>\n",
       "    <tr>\n",
       "      <td>4</td>\n",
       "      <td>5</td>\n",
       "      <td>0.363193</td>\n",
       "    </tr>\n",
       "  </tbody>\n",
       "</table>\n",
       "</div>"
      ],
      "text/plain": [
       "   Id  Attrition\n",
       "0   1   0.742476\n",
       "1   2   0.347438\n",
       "2   3   0.938753\n",
       "3   4   0.456471\n",
       "4   5   0.363193"
      ]
     },
     "execution_count": 23,
     "metadata": {},
     "output_type": "execute_result"
    }
   ],
   "source": [
    "# Check standard submission format\n",
    "sample_submission = pd.read_csv('Sample_submission.csv')\n",
    "sample_submission.head()"
   ]
  },
  {
   "cell_type": "markdown",
   "metadata": {},
   "source": [
    "## Submitting two best predictions"
   ]
  },
  {
   "cell_type": "code",
   "execution_count": 25,
   "metadata": {},
   "outputs": [],
   "source": [
    "rfr1 = RandomForestClassifier(n_estimators=100)\n",
    "\n",
    "## Before final submission always fit on full training data \n",
    "rfr1.fit(X, y) \n",
    "\n",
    "# Using predict_proba as sample submission contains probability \n",
    "pred_rfr1 = rfr1.predict_proba(X_test)[:,1]\n",
    "output = pd.DataFrame({'Id': X_test.index,\n",
    "                       'attrition': pred_rfr1})\n",
    "# Saving the submission file\n",
    "output.to_csv('submission_rfr1.csv', index=False)"
   ]
  },
  {
   "cell_type": "code",
   "execution_count": 26,
   "metadata": {},
   "outputs": [
    {
     "name": "stdout",
     "output_type": "stream",
     "text": [
      "length of submission =  470\n"
     ]
    },
    {
     "data": {
      "text/html": [
       "<div>\n",
       "<style scoped>\n",
       "    .dataframe tbody tr th:only-of-type {\n",
       "        vertical-align: middle;\n",
       "    }\n",
       "\n",
       "    .dataframe tbody tr th {\n",
       "        vertical-align: top;\n",
       "    }\n",
       "\n",
       "    .dataframe thead th {\n",
       "        text-align: right;\n",
       "    }\n",
       "</style>\n",
       "<table border=\"1\" class=\"dataframe\">\n",
       "  <thead>\n",
       "    <tr style=\"text-align: right;\">\n",
       "      <th></th>\n",
       "      <th>Id</th>\n",
       "      <th>attrition</th>\n",
       "    </tr>\n",
       "  </thead>\n",
       "  <tbody>\n",
       "    <tr>\n",
       "      <td>0</td>\n",
       "      <td>1</td>\n",
       "      <td>0.07</td>\n",
       "    </tr>\n",
       "    <tr>\n",
       "      <td>1</td>\n",
       "      <td>2</td>\n",
       "      <td>0.06</td>\n",
       "    </tr>\n",
       "    <tr>\n",
       "      <td>2</td>\n",
       "      <td>3</td>\n",
       "      <td>0.12</td>\n",
       "    </tr>\n",
       "    <tr>\n",
       "      <td>3</td>\n",
       "      <td>4</td>\n",
       "      <td>0.22</td>\n",
       "    </tr>\n",
       "    <tr>\n",
       "      <td>4</td>\n",
       "      <td>5</td>\n",
       "      <td>0.06</td>\n",
       "    </tr>\n",
       "  </tbody>\n",
       "</table>\n",
       "</div>"
      ],
      "text/plain": [
       "   Id  attrition\n",
       "0   1       0.07\n",
       "1   2       0.06\n",
       "2   3       0.12\n",
       "3   4       0.22\n",
       "4   5       0.06"
      ]
     },
     "execution_count": 26,
     "metadata": {},
     "output_type": "execute_result"
    }
   ],
   "source": [
    "# check how your submission looks\n",
    "submission1 = pd.read_csv('submission_rfr1.csv')\n",
    "print('length of submission = ',len(submission1))\n",
    "submission1.head()"
   ]
  },
  {
   "cell_type": "code",
   "execution_count": 27,
   "metadata": {},
   "outputs": [],
   "source": [
    "# Repeat for SVM\n",
    "\n",
    "svc1 = SVC(gamma='scale')\n",
    "svc1.fit(X, y)\n",
    "\n",
    "pred_svc1 = svc1.predict(X_test)\n",
    "output = pd.DataFrame({'Id': X_test.index,\n",
    "                       'attrition': pred_svc1})\n",
    "output.to_csv('submission_svc1.csv', index=False)"
   ]
  },
  {
   "cell_type": "code",
   "execution_count": 28,
   "metadata": {},
   "outputs": [
    {
     "name": "stdout",
     "output_type": "stream",
     "text": [
      "length of submission =  470\n"
     ]
    },
    {
     "data": {
      "text/html": [
       "<div>\n",
       "<style scoped>\n",
       "    .dataframe tbody tr th:only-of-type {\n",
       "        vertical-align: middle;\n",
       "    }\n",
       "\n",
       "    .dataframe tbody tr th {\n",
       "        vertical-align: top;\n",
       "    }\n",
       "\n",
       "    .dataframe thead th {\n",
       "        text-align: right;\n",
       "    }\n",
       "</style>\n",
       "<table border=\"1\" class=\"dataframe\">\n",
       "  <thead>\n",
       "    <tr style=\"text-align: right;\">\n",
       "      <th></th>\n",
       "      <th>Id</th>\n",
       "      <th>attrition</th>\n",
       "    </tr>\n",
       "  </thead>\n",
       "  <tbody>\n",
       "    <tr>\n",
       "      <td>0</td>\n",
       "      <td>1</td>\n",
       "      <td>1</td>\n",
       "    </tr>\n",
       "    <tr>\n",
       "      <td>1</td>\n",
       "      <td>2</td>\n",
       "      <td>0</td>\n",
       "    </tr>\n",
       "    <tr>\n",
       "      <td>2</td>\n",
       "      <td>3</td>\n",
       "      <td>0</td>\n",
       "    </tr>\n",
       "    <tr>\n",
       "      <td>3</td>\n",
       "      <td>4</td>\n",
       "      <td>0</td>\n",
       "    </tr>\n",
       "    <tr>\n",
       "      <td>4</td>\n",
       "      <td>5</td>\n",
       "      <td>0</td>\n",
       "    </tr>\n",
       "  </tbody>\n",
       "</table>\n",
       "</div>"
      ],
      "text/plain": [
       "   Id  attrition\n",
       "0   1          1\n",
       "1   2          0\n",
       "2   3          0\n",
       "3   4          0\n",
       "4   5          0"
      ]
     },
     "execution_count": 28,
     "metadata": {},
     "output_type": "execute_result"
    }
   ],
   "source": [
    "submission2 = pd.read_csv('submission_svc1.csv')\n",
    "print('length of submission = ',len(submission2))\n",
    "submission2.head()"
   ]
  },
  {
   "cell_type": "markdown",
   "metadata": {},
   "source": [
    "### Kaggle score comes out to be around 0.75 for both submissions\n",
    "### Definitely there is difference in train and test data"
   ]
  },
  {
   "cell_type": "code",
   "execution_count": 29,
   "metadata": {},
   "outputs": [
    {
     "data": {
      "text/plain": [
       "<matplotlib.axes._subplots.AxesSubplot at 0x2813ce7a648>"
      ]
     },
     "execution_count": 29,
     "metadata": {},
     "output_type": "execute_result"
    },
    {
     "data": {
      "image/png": "[encoded data removed]",
      "text/plain": [
       "<Figure size 432x288 with 1 Axes>"
      ]
     },
     "metadata": {
      "needs_background": "light"
     },
     "output_type": "display_data"
    }
   ],
   "source": [
    "# Plot no of 0's and 1's in training data\n",
    "y.value_counts().plot.bar()"
   ]
  },
  {
   "cell_type": "code",
   "execution_count": 30,
   "metadata": {},
   "outputs": [
    {
     "name": "stdout",
     "output_type": "stream",
     "text": [
      "33 437\n"
     ]
    },
    {
     "data": {
      "text/plain": [
       "(array([399.,  71.]), array([0. , 0.4, 0.8]), <a list of 2 Patch objects>)"
      ]
     },
     "execution_count": 30,
     "metadata": {},
     "output_type": "execute_result"
    },
    {
     "data": {
      "image/png": "[encoded data removed]",
      "text/plain": [
       "<Figure size 432x288 with 1 Axes>"
      ]
     },
     "metadata": {
      "needs_background": "light"
     },
     "output_type": "display_data"
    }
   ],
   "source": [
    "# Check frequency of (more than 0.5)'s and (less than 0.5)'s\n",
    "print(len(pred_rfr1[pred_rfr1 > 0.5]),len(pred_rfr1[pred_rfr1 <= 0.5]))\n",
    "plt.hist(pred_rfr1,2)"
   ]
  },
  {
   "cell_type": "markdown",
   "metadata": {},
   "source": [
    "Although we dont know the predictions\n",
    "but its clear that there are more 0's than 1's in test data as our score is 75%\n",
    "This looks like case of \n",
    "## imbalanced data"
   ]
  },
  {
   "cell_type": "markdown",
   "metadata": {},
   "source": [
    "# Upsampling 0's in training data so that we train accordingly"
   ]
  },
  {
   "cell_type": "code",
   "execution_count": 31,
   "metadata": {},
   "outputs": [
    {
     "data": {
      "text/html": [
       "<div>\n",
       "<style scoped>\n",
       "    .dataframe tbody tr th:only-of-type {\n",
       "        vertical-align: middle;\n",
       "    }\n",
       "\n",
       "    .dataframe tbody tr th {\n",
       "        vertical-align: top;\n",
       "    }\n",
       "\n",
       "    .dataframe thead th {\n",
       "        text-align: right;\n",
       "    }\n",
       "</style>\n",
       "<table border=\"1\" class=\"dataframe\">\n",
       "  <thead>\n",
       "    <tr style=\"text-align: right;\">\n",
       "      <th></th>\n",
       "      <th>Age</th>\n",
       "      <th>BusinessTravel</th>\n",
       "      <th>Department</th>\n",
       "      <th>DistanceFromHome</th>\n",
       "      <th>Education</th>\n",
       "      <th>EducationField</th>\n",
       "      <th>EmployeeNumber</th>\n",
       "      <th>EnvironmentSatisfaction</th>\n",
       "      <th>Gender</th>\n",
       "      <th>JobInvolvement</th>\n",
       "      <th>JobRole</th>\n",
       "      <th>JobSatisfaction</th>\n",
       "      <th>MaritalStatus</th>\n",
       "      <th>MonthlyIncome</th>\n",
       "      <th>NumCompaniesWorked</th>\n",
       "      <th>OverTime</th>\n",
       "      <th>PercentSalaryHike</th>\n",
       "      <th>PerformanceRating</th>\n",
       "      <th>StockOptionLevel</th>\n",
       "      <th>TotalWorkingYears</th>\n",
       "      <th>TrainingTimesLastYear</th>\n",
       "      <th>YearsAtCompany</th>\n",
       "      <th>YearsInCurrentRole</th>\n",
       "      <th>YearsSinceLastPromotion</th>\n",
       "      <th>YearsWithCurrManager</th>\n",
       "      <th>CommunicationSkill</th>\n",
       "      <th>Attrition</th>\n",
       "    </tr>\n",
       "    <tr>\n",
       "      <th>Id</th>\n",
       "      <th></th>\n",
       "      <th></th>\n",
       "      <th></th>\n",
       "      <th></th>\n",
       "      <th></th>\n",
       "      <th></th>\n",
       "      <th></th>\n",
       "      <th></th>\n",
       "      <th></th>\n",
       "      <th></th>\n",
       "      <th></th>\n",
       "      <th></th>\n",
       "      <th></th>\n",
       "      <th></th>\n",
       "      <th></th>\n",
       "      <th></th>\n",
       "      <th></th>\n",
       "      <th></th>\n",
       "      <th></th>\n",
       "      <th></th>\n",
       "      <th></th>\n",
       "      <th></th>\n",
       "      <th></th>\n",
       "      <th></th>\n",
       "      <th></th>\n",
       "      <th></th>\n",
       "      <th></th>\n",
       "    </tr>\n",
       "  </thead>\n",
       "  <tbody>\n",
       "    <tr>\n",
       "      <td>1</td>\n",
       "      <td>30</td>\n",
       "      <td>0</td>\n",
       "      <td>1</td>\n",
       "      <td>2</td>\n",
       "      <td>3</td>\n",
       "      <td>3</td>\n",
       "      <td>571</td>\n",
       "      <td>3</td>\n",
       "      <td>0</td>\n",
       "      <td>3</td>\n",
       "      <td>2</td>\n",
       "      <td>4</td>\n",
       "      <td>2</td>\n",
       "      <td>2564</td>\n",
       "      <td>0</td>\n",
       "      <td>0</td>\n",
       "      <td>14</td>\n",
       "      <td>3</td>\n",
       "      <td>0</td>\n",
       "      <td>12</td>\n",
       "      <td>2</td>\n",
       "      <td>11</td>\n",
       "      <td>7</td>\n",
       "      <td>6</td>\n",
       "      <td>7</td>\n",
       "      <td>4</td>\n",
       "      <td>0</td>\n",
       "    </tr>\n",
       "    <tr>\n",
       "      <td>2</td>\n",
       "      <td>36</td>\n",
       "      <td>2</td>\n",
       "      <td>1</td>\n",
       "      <td>12</td>\n",
       "      <td>4</td>\n",
       "      <td>1</td>\n",
       "      <td>1614</td>\n",
       "      <td>3</td>\n",
       "      <td>0</td>\n",
       "      <td>3</td>\n",
       "      <td>4</td>\n",
       "      <td>3</td>\n",
       "      <td>1</td>\n",
       "      <td>4663</td>\n",
       "      <td>9</td>\n",
       "      <td>1</td>\n",
       "      <td>12</td>\n",
       "      <td>3</td>\n",
       "      <td>2</td>\n",
       "      <td>7</td>\n",
       "      <td>2</td>\n",
       "      <td>3</td>\n",
       "      <td>2</td>\n",
       "      <td>1</td>\n",
       "      <td>1</td>\n",
       "      <td>2</td>\n",
       "      <td>0</td>\n",
       "    </tr>\n",
       "    <tr>\n",
       "      <td>3</td>\n",
       "      <td>55</td>\n",
       "      <td>2</td>\n",
       "      <td>2</td>\n",
       "      <td>2</td>\n",
       "      <td>1</td>\n",
       "      <td>3</td>\n",
       "      <td>842</td>\n",
       "      <td>3</td>\n",
       "      <td>1</td>\n",
       "      <td>3</td>\n",
       "      <td>7</td>\n",
       "      <td>4</td>\n",
       "      <td>2</td>\n",
       "      <td>5160</td>\n",
       "      <td>4</td>\n",
       "      <td>0</td>\n",
       "      <td>16</td>\n",
       "      <td>3</td>\n",
       "      <td>0</td>\n",
       "      <td>12</td>\n",
       "      <td>3</td>\n",
       "      <td>9</td>\n",
       "      <td>7</td>\n",
       "      <td>7</td>\n",
       "      <td>3</td>\n",
       "      <td>5</td>\n",
       "      <td>1</td>\n",
       "    </tr>\n",
       "    <tr>\n",
       "      <td>4</td>\n",
       "      <td>39</td>\n",
       "      <td>2</td>\n",
       "      <td>1</td>\n",
       "      <td>24</td>\n",
       "      <td>1</td>\n",
       "      <td>1</td>\n",
       "      <td>2014</td>\n",
       "      <td>1</td>\n",
       "      <td>1</td>\n",
       "      <td>3</td>\n",
       "      <td>6</td>\n",
       "      <td>4</td>\n",
       "      <td>2</td>\n",
       "      <td>4108</td>\n",
       "      <td>7</td>\n",
       "      <td>0</td>\n",
       "      <td>13</td>\n",
       "      <td>3</td>\n",
       "      <td>0</td>\n",
       "      <td>18</td>\n",
       "      <td>2</td>\n",
       "      <td>7</td>\n",
       "      <td>7</td>\n",
       "      <td>1</td>\n",
       "      <td>7</td>\n",
       "      <td>4</td>\n",
       "      <td>0</td>\n",
       "    </tr>\n",
       "    <tr>\n",
       "      <td>5</td>\n",
       "      <td>37</td>\n",
       "      <td>2</td>\n",
       "      <td>1</td>\n",
       "      <td>3</td>\n",
       "      <td>3</td>\n",
       "      <td>4</td>\n",
       "      <td>689</td>\n",
       "      <td>3</td>\n",
       "      <td>1</td>\n",
       "      <td>3</td>\n",
       "      <td>4</td>\n",
       "      <td>3</td>\n",
       "      <td>1</td>\n",
       "      <td>9434</td>\n",
       "      <td>1</td>\n",
       "      <td>0</td>\n",
       "      <td>15</td>\n",
       "      <td>3</td>\n",
       "      <td>1</td>\n",
       "      <td>10</td>\n",
       "      <td>2</td>\n",
       "      <td>10</td>\n",
       "      <td>7</td>\n",
       "      <td>7</td>\n",
       "      <td>8</td>\n",
       "      <td>1</td>\n",
       "      <td>0</td>\n",
       "    </tr>\n",
       "  </tbody>\n",
       "</table>\n",
       "</div>"
      ],
      "text/plain": [
       "    Age  BusinessTravel  Department  DistanceFromHome  Education  \\\n",
       "Id                                                                 \n",
       "1    30               0           1                 2          3   \n",
       "2    36               2           1                12          4   \n",
       "3    55               2           2                 2          1   \n",
       "4    39               2           1                24          1   \n",
       "5    37               2           1                 3          3   \n",
       "\n",
       "    EducationField  EmployeeNumber  EnvironmentSatisfaction  Gender  \\\n",
       "Id                                                                    \n",
       "1                3             571                        3       0   \n",
       "2                1            1614                        3       0   \n",
       "3                3             842                        3       1   \n",
       "4                1            2014                        1       1   \n",
       "5                4             689                        3       1   \n",
       "\n",
       "    JobInvolvement  JobRole  JobSatisfaction  MaritalStatus  MonthlyIncome  \\\n",
       "Id                                                                           \n",
       "1                3        2                4              2           2564   \n",
       "2                3        4                3              1           4663   \n",
       "3                3        7                4              2           5160   \n",
       "4                3        6                4              2           4108   \n",
       "5                3        4                3              1           9434   \n",
       "\n",
       "    NumCompaniesWorked  OverTime  PercentSalaryHike  PerformanceRating  \\\n",
       "Id                                                                       \n",
       "1                    0         0                 14                  3   \n",
       "2                    9         1                 12                  3   \n",
       "3                    4         0                 16                  3   \n",
       "4                    7         0                 13                  3   \n",
       "5                    1         0                 15                  3   \n",
       "\n",
       "    StockOptionLevel  TotalWorkingYears  TrainingTimesLastYear  \\\n",
       "Id                                                               \n",
       "1                  0                 12                      2   \n",
       "2                  2                  7                      2   \n",
       "3                  0                 12                      3   \n",
       "4                  0                 18                      2   \n",
       "5                  1                 10                      2   \n",
       "\n",
       "    YearsAtCompany  YearsInCurrentRole  YearsSinceLastPromotion  \\\n",
       "Id                                                                \n",
       "1               11                   7                        6   \n",
       "2                3                   2                        1   \n",
       "3                9                   7                        7   \n",
       "4                7                   7                        1   \n",
       "5               10                   7                        7   \n",
       "\n",
       "    YearsWithCurrManager  CommunicationSkill  Attrition  \n",
       "Id                                                       \n",
       "1                      7                   4          0  \n",
       "2                      1                   2          0  \n",
       "3                      3                   5          1  \n",
       "4                      7                   4          0  \n",
       "5                      8                   1          0  "
      ]
     },
     "execution_count": 31,
     "metadata": {},
     "output_type": "execute_result"
    }
   ],
   "source": [
    "# Concatenating X and y for upsampling of 0's\n",
    "train_data_std = X.copy()\n",
    "train_data_std['Attrition'] = y\n",
    "train_data_std.head()"
   ]
  },
  {
   "cell_type": "code",
   "execution_count": 32,
   "metadata": {},
   "outputs": [
    {
     "name": "stdout",
     "output_type": "stream",
     "text": [
      "785 843\n"
     ]
    }
   ],
   "source": [
    "# Split class into 0's and 1's\n",
    "X1 = train_data_std[train_data_std.Attrition == 1]\n",
    "X0 = train_data_std[train_data_std.Attrition == 0]\n",
    "\n",
    "print(len(X1),len(X0))"
   ]
  },
  {
   "cell_type": "code",
   "execution_count": 33,
   "metadata": {},
   "outputs": [],
   "source": [
    "# Upsampling method\n",
    "from sklearn.utils import resample\n",
    "X0_os = resample(X0, \n",
    "                 replace=True, \n",
    "                 n_samples=int(len(X1)*1.6), \n",
    "                 random_state=27) #reproducible results"
   ]
  },
  {
   "cell_type": "code",
   "execution_count": 35,
   "metadata": {},
   "outputs": [],
   "source": [
    "# Conatenate both classes for training FURTHER\n",
    "X_os = pd.concat([X0_os,X1]) # oversampled X\n",
    "y_os = X_os.Attrition # oversampled y\n",
    "X_os.drop(['Attrition'], axis=1, inplace=True)"
   ]
  },
  {
   "cell_type": "markdown",
   "metadata": {},
   "source": [
    "### Implementing models again"
   ]
  },
  {
   "cell_type": "markdown",
   "metadata": {},
   "source": [
    "# SVM "
   ]
  },
  {
   "cell_type": "code",
   "execution_count": 36,
   "metadata": {},
   "outputs": [
    {
     "name": "stdout",
     "output_type": "stream",
     "text": [
      "{'scorelist': array([0.99479325, 0.98921511, 0.99292004, 0.98383536, 0.99309767]), 'meanscore': 0.9907722864481816}\n"
     ]
    }
   ],
   "source": [
    "from sklearn.svm import SVC\n",
    "svc = SVC(gamma='scale')\n",
    "print(crossvalidationscore(svc, \n",
    "                           StandardScaler().fit_transform(X_os), # Using StandardScaler as SVM IS sensitive \n",
    "                           y_os, 5))                             # Standardize values to (-1,1)"
   ]
  },
  {
   "cell_type": "markdown",
   "metadata": {},
   "source": [
    "# RandomForest"
   ]
  },
  {
   "cell_type": "code",
   "execution_count": 37,
   "metadata": {},
   "outputs": [
    {
     "name": "stdout",
     "output_type": "stream",
     "text": [
      "{'scorelist': array([1., 1., 1., 1., 1.]), 'meanscore': 1.0}\n"
     ]
    }
   ],
   "source": [
    "rfr = RandomForestClassifier(n_estimators=100)\n",
    "print(crossvalidationscore(rfr, StandardScaler().fit_transform(X_os), y_os, 5))"
   ]
  },
  {
   "cell_type": "markdown",
   "metadata": {},
   "source": [
    "SVM score is improved.  \n",
    "RandomForest stays looking perfect. \n",
    "let's submit new predictions."
   ]
  },
  {
   "cell_type": "code",
   "execution_count": 38,
   "metadata": {},
   "outputs": [],
   "source": [
    "rfr2 = RandomForestClassifier(n_estimators=100)\n",
    "\n",
    "## Before final submission always fit on full training data \n",
    "rfr2.fit(X_os, y_os) \n",
    "\n",
    "# Using predict_proba as sample submission contains probability \n",
    "pred_rfr2 = rfr2.predict_proba(X_test)[:,1]\n",
    "output1 = pd.DataFrame({'Id': X_test.index,\n",
    "                       'attrition': pred_rfr2})\n",
    "# Saving the submission file\n",
    "output1.to_csv('submission_rfr2.csv', index=False)\n",
    "\n",
    "\n",
    "# Repeat for SVM\n",
    "\n",
    "svc2 = SVC(gamma='scale')\n",
    "svc2.fit(X_os, y_os)\n",
    "\n",
    "pred_svc2 = svc2.predict(X_test)\n",
    "output2 = pd.DataFrame({'Id': X_test.index,\n",
    "                       'attrition': pred_svc2})\n",
    "output2.to_csv('submission_svc2.csv', index=False)"
   ]
  },
  {
   "cell_type": "markdown",
   "metadata": {},
   "source": [
    "#### Kaggle score shows improvement to both around 0.78\n",
    "### Need to try something else."
   ]
  },
  {
   "cell_type": "markdown",
   "metadata": {},
   "source": [
    "# Hyperparameter Tuning"
   ]
  },
  {
   "cell_type": "code",
   "execution_count": 39,
   "metadata": {},
   "outputs": [],
   "source": [
    "# importing necessary library to check for best combination of parameters\n",
    "from sklearn.model_selection import GridSearchCV"
   ]
  },
  {
   "cell_type": "code",
   "execution_count": 40,
   "metadata": {},
   "outputs": [
    {
     "name": "stdout",
     "output_type": "stream",
     "text": [
      "best parameters :  {'C': 10, 'degree': 2, 'kernel': 'rbf'}\n"
     ]
    }
   ],
   "source": [
    "param = {#'n_estimators':[20,50,80,200,500,1000], \n",
    "         #'learning_rate':[0.01,0.05,0.1], \n",
    "         #'max_depth': [1,2, 5,7], \n",
    "         'C': [0.1, 1, 10], \n",
    "         'kernel': ['rbf', 'poly'], \n",
    "         'degree': [2,3,4]\n",
    "        }\n",
    "\n",
    "grid1 = GridSearchCV(estimator=svc, param_grid=param, scoring='roc_auc', cv=5)\n",
    "grid1.fit(X, y)\n",
    "print('best parameters : ', grid1.best_params_)"
   ]
  },
  {
   "cell_type": "code",
   "execution_count": 41,
   "metadata": {},
   "outputs": [
    {
     "name": "stdout",
     "output_type": "stream",
     "text": [
      "{'scorelist': array([1.        , 0.99621895, 1.        , 0.99269165, 1.        ]), 'meanscore': 0.9977821199279315}\n"
     ]
    }
   ],
   "source": [
    "# check scores with updated model\n",
    "svc3 = SVC(gamma='scale',C=10, kernel='rbf', degree=2)\n",
    "print(crossvalidationscore(svc3, StandardScaler().fit_transform(X_os), y_os, 5))"
   ]
  },
  {
   "cell_type": "code",
   "execution_count": 42,
   "metadata": {},
   "outputs": [
    {
     "name": "stdout",
     "output_type": "stream",
     "text": [
      "best parameters {'learning_rate': 0.05, 'max_depth': 7, 'n_estimators': 1000} \n",
      "score :  0.9985283265538042\n"
     ]
    }
   ],
   "source": [
    "param2 = {'n_estimators':[20,50,80,200,500,1000], \n",
    "         'learning_rate':[0.01,0.05,0.1], \n",
    "         'max_depth': [1,2, 5,7], \n",
    "         #'C': [0.1, 1, 10], \n",
    "         #'kernel': ['rbf', 'poly'], \n",
    "         #'degree': [2,3,4]\n",
    "        }\n",
    "\n",
    "grid1 = GridSearchCV(estimator=xgb, param_grid=param2, scoring='roc_auc', cv=5)\n",
    "grid1.fit(X, y)\n",
    "print('best parameters', grid1.best_params_, '\\nscore : ', grid1.best_score_)"
   ]
  },
  {
   "cell_type": "markdown",
   "metadata": {},
   "source": [
    "Both validation score shows improvement.   \n",
    "Let's submit all 3 submissions.  "
   ]
  },
  {
   "cell_type": "code",
   "execution_count": 43,
   "metadata": {},
   "outputs": [],
   "source": [
    "rfr3 = RandomForestClassifier(n_estimators=1000, max_leaf_nodes=10, max_depth=7)\n",
    "\n",
    "## Before final submission always fit on full training data \n",
    "rfr3.fit(X_os, y_os) \n",
    "\n",
    "# Using predict_proba as sample submission contains probability \n",
    "pred_rfr3 = rfr3.predict_proba(X_test)[:,1]\n",
    "output3 = pd.DataFrame({'Id': X_test.index,\n",
    "                       'attrition': pred_rfr3})\n",
    "# Saving the submission file\n",
    "output3.to_csv('submission_rfr3.csv', index=False)\n",
    "\n",
    "\n",
    "# Repeat for SVM\n",
    "\n",
    "svc3 = SVC(gamma='scale',C=10, kernel='rbf', degree=2)\n",
    "svc3.fit(X_os, y_os)\n",
    "\n",
    "pred_svc3 = svc3.predict(X_test)\n",
    "output4 = pd.DataFrame({'Id': X_test.index,\n",
    "                       'attrition': pred_svc3})\n",
    "output4.to_csv('submission_svc3.csv', index=False)\n",
    "\n",
    "# Repeat for XGBClassifier\n",
    "\n",
    "xgb1 = XGBClassifier(learning_rate=0.05, n_estimators=1000, max_depth=7)\n",
    "xgb1.fit(X_os, y_os)\n",
    "pred_xgb1 = xgb1.predict_proba(X_test)[:,1]\n",
    "\n",
    "output5 = pd.DataFrame({'Id': X_test.index,\n",
    "                       'attrition': pred_xgb1})\n",
    "output5.to_csv('submission_xgb1.csv', index=False)"
   ]
  },
  {
   "cell_type": "markdown",
   "metadata": {},
   "source": [
    "### Score increased to 0.82 , maximum till now\n",
    "## It looks like training data is different from test data, thus hard to perfectionize model."
   ]
  },
  {
   "cell_type": "code",
   "execution_count": 44,
   "metadata": {},
   "outputs": [
    {
     "name": "stdout",
     "output_type": "stream",
     "text": [
      "MonthlyIncome 252388.19860097504\n",
      "EmployeeNumber 813.8189890644849\n",
      "TotalWorkingYears 492.1531052690799\n",
      "YearsAtCompany 349.9663720451987\n",
      "YearsInCurrentRole 300.23617315795974\n",
      "YearsWithCurrManager 209.95477216479355\n",
      "Age 145.9161857389169\n",
      "DistanceFromHome 87.64406191650258\n",
      "OverTime 78.601191211226\n",
      "StockOptionLevel 33.27651420037152\n",
      "JobRole 28.204259984666894\n",
      "MaritalStatus 20.872771857743427\n",
      "YearsSinceLastPromotion 15.883487898702507\n",
      "JobSatisfaction 12.63054903565424\n",
      "TrainingTimesLastYear 11.510823757342585\n",
      "CommunicationSkill 10.930028991763763\n",
      "EnvironmentSatisfaction 9.328840520455929\n",
      "JobInvolvement 7.1240311655036646\n",
      "Department 3.016771404935743\n",
      "NumCompaniesWorked 2.9874623201645987\n"
     ]
    }
   ],
   "source": [
    "# Checking if training data different from test data\n",
    "# Test for feature with maximum importance(predicted by chi2 method)\n",
    "col_values = list(X.columns.values)\n",
    "feature_scores = chi2(X_train, y_train)[0]\n",
    "for score, fname in sorted(zip(feature_scores, col_values), reverse=True)[:20]:\n",
    "    print(fname, score)"
   ]
  },
  {
   "cell_type": "code",
   "execution_count": 45,
   "metadata": {},
   "outputs": [
    {
     "data": {
      "text/plain": [
       "(array([778., 451., 191.,  89.,  42.,  77.]),\n",
       " array([ 1009.,  4174.,  7339., 10504., 13669., 16834., 19999.]),\n",
       " <a list of 6 Patch objects>)"
      ]
     },
     "execution_count": 45,
     "metadata": {},
     "output_type": "execute_result"
    },
    {
     "data": {
      "image/png": "[encoded data removed]",
      "text/plain": [
       "<Figure size 432x288 with 1 Axes>"
      ]
     },
     "metadata": {
      "needs_background": "light"
     },
     "output_type": "display_data"
    }
   ],
   "source": [
    "# Plotting MonthlyIncome for training data\n",
    "plt.hist(X.MonthlyIncome,6)"
   ]
  },
  {
   "cell_type": "code",
   "execution_count": 46,
   "metadata": {},
   "outputs": [
    {
     "data": {
      "text/plain": [
       "(array([180., 155.,  52.,  31.,  17.,  35.]),\n",
       " array([ 1091.,  4233.,  7375., 10517., 13659., 16801., 19943.]),\n",
       " <a list of 6 Patch objects>)"
      ]
     },
     "execution_count": 46,
     "metadata": {},
     "output_type": "execute_result"
    },
    {
     "data": {
      "image/png": "[encoded data removed]",
      "text/plain": [
       "<Figure size 432x288 with 1 Axes>"
      ]
     },
     "metadata": {
      "needs_background": "light"
     },
     "output_type": "display_data"
    }
   ],
   "source": [
    "# Plotting MonthlyIncome for testing data\n",
    "plt.hist(X_test.MonthlyIncome,6)"
   ]
  },
  {
   "cell_type": "markdown",
   "metadata": {},
   "source": [
    "### Columns with greatest chi2 values looks same for train and test data\n",
    "# Myconclusion\n",
    "### possibly data leak in feature of least importance, leading to imperfect results"
   ]
  },
  {
   "cell_type": "markdown",
   "metadata": {},
   "source": [
    "Additional reason for not so good results:\n",
    "    1. There are few features that are highly correlated and can be merged.\n",
    "    2. Better use of data visualisation to find out underlying leak.\n",
    "    3. Data is duplicated (this I found later)."
   ]
  },
  {
   "cell_type": "code",
   "execution_count": null,
   "metadata": {},
   "outputs": [],
   "source": []
  }
 ],
 "metadata": {
  "kernelspec": {
   "display_name": "Python 3",
   "language": "python",
   "name": "python3"
  },
  "language_info": {
   "codemirror_mode": {
    "name": "ipython",
    "version": 3
   },
   "file_extension": ".py",
   "mimetype": "text/x-python",
   "name": "python",
   "nbconvert_exporter": "python",
   "pygments_lexer": "ipython3",
   "version": "3.7.4"
  }
 },
 "nbformat": 4,
 "nbformat_minor": 2
}
